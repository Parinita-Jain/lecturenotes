{
 "cells": [
  {
   "cell_type": "code",
   "execution_count": 30,
   "id": "15bde38f",
   "metadata": {},
   "outputs": [],
   "source": [
    "#!pip install mysql-connector-python"
   ]
  },
  {
   "cell_type": "code",
   "execution_count": 31,
   "id": "f893cef7",
   "metadata": {},
   "outputs": [],
   "source": [
    "import mysql.connector"
   ]
  },
  {
   "cell_type": "code",
   "execution_count": 32,
   "id": "92c0ac77",
   "metadata": {},
   "outputs": [
    {
     "data": {
      "text/plain": [
       "'\\ntomakeconnection with mysql server we have to use the connect() method. Provide mysql server location,username,password \\n'"
      ]
     },
     "execution_count": 32,
     "metadata": {},
     "output_type": "execute_result"
    }
   ],
   "source": [
    "'''\n",
    "tomakeconnection with mysql server we have to use the connect() method. Provide mysql server location,username,password \n",
    "'''"
   ]
  },
  {
   "cell_type": "code",
   "execution_count": 33,
   "id": "559fc101",
   "metadata": {},
   "outputs": [],
   "source": [
    "db_conn=mysql.connector.connect(\n",
    "    host=\"localhost\",\n",
    "    user=\"root\"\n",
    ")"
   ]
  },
  {
   "cell_type": "code",
   "execution_count": 34,
   "id": "38f6c9cf",
   "metadata": {},
   "outputs": [
    {
     "name": "stdout",
     "output_type": "stream",
     "text": [
      "<mysql.connector.connection_cext.CMySQLConnection object at 0x00000220A0FC6A60>\n"
     ]
    }
   ],
   "source": [
    "print(db_conn)"
   ]
  },
  {
   "cell_type": "code",
   "execution_count": 35,
   "id": "dd1339da",
   "metadata": {},
   "outputs": [],
   "source": [
    "# creat a cursor which will implement sql cmdson the database. It is createdusing the cursor method"
   ]
  },
  {
   "cell_type": "code",
   "execution_count": 36,
   "id": "e7efd214",
   "metadata": {},
   "outputs": [],
   "source": [
    "cursor=db_conn.cursor()"
   ]
  },
  {
   "cell_type": "code",
   "execution_count": 37,
   "id": "25386ea4",
   "metadata": {},
   "outputs": [
    {
     "data": {
      "text/plain": [
       "<mysql.connector.cursor_cext.CMySQLCursor at 0x220a15af520>"
      ]
     },
     "execution_count": 37,
     "metadata": {},
     "output_type": "execute_result"
    }
   ],
   "source": [
    "cursor"
   ]
  },
  {
   "cell_type": "code",
   "execution_count": 38,
   "id": "8c8c8b2c",
   "metadata": {},
   "outputs": [],
   "source": [
    "cursor.execute(\"show databases;\")"
   ]
  },
  {
   "cell_type": "code",
   "execution_count": 39,
   "id": "78cc876e",
   "metadata": {},
   "outputs": [],
   "source": [
    "# to fetch all the records fromthe output of an executed SQL query,wehave touse fetchall() method of the cursor object"
   ]
  },
  {
   "cell_type": "code",
   "execution_count": 40,
   "id": "b129a099",
   "metadata": {},
   "outputs": [
    {
     "data": {
      "text/plain": [
       "[('fifa19',),\n",
       " ('information_schema',),\n",
       " ('itvedant',),\n",
       " ('movies',),\n",
       " ('mysql',),\n",
       " ('performance_schema',),\n",
       " ('phpmyadmin',),\n",
       " ('production',),\n",
       " ('sales',),\n",
       " ('sql2_4',),\n",
       " ('sql_lab',),\n",
       " ('test',)]"
      ]
     },
     "execution_count": 40,
     "metadata": {},
     "output_type": "execute_result"
    }
   ],
   "source": [
    "cursor.fetchall()"
   ]
  },
  {
   "cell_type": "code",
   "execution_count": 41,
   "id": "b3cbba30",
   "metadata": {},
   "outputs": [],
   "source": [
    "# use database\n",
    "cursor.execute(\"use fifa19\")"
   ]
  },
  {
   "cell_type": "code",
   "execution_count": 42,
   "id": "31a3636b",
   "metadata": {},
   "outputs": [],
   "source": [
    "# show tables"
   ]
  },
  {
   "cell_type": "code",
   "execution_count": 43,
   "id": "4f1bcd03",
   "metadata": {},
   "outputs": [],
   "source": [
    "cursor.execute(\"show tables\")"
   ]
  },
  {
   "cell_type": "code",
   "execution_count": 44,
   "id": "565b365c",
   "metadata": {},
   "outputs": [
    {
     "data": {
      "text/plain": [
       "[('emp',), ('emp_constarints',), ('players',), ('sales',)]"
      ]
     },
     "execution_count": 44,
     "metadata": {},
     "output_type": "execute_result"
    }
   ],
   "source": [
    "cursor.fetchall()"
   ]
  },
  {
   "cell_type": "code",
   "execution_count": 45,
   "id": "d466f7d4",
   "metadata": {},
   "outputs": [],
   "source": [
    "# toclose the curent object"
   ]
  },
  {
   "cell_type": "code",
   "execution_count": 46,
   "id": "7cdaa148",
   "metadata": {},
   "outputs": [],
   "source": [
    "#cursor.close()"
   ]
  },
  {
   "cell_type": "code",
   "execution_count": 47,
   "id": "949ad911",
   "metadata": {},
   "outputs": [],
   "source": [
    "cursor.execute(\"select * from sales;\")"
   ]
  },
  {
   "cell_type": "code",
   "execution_count": 48,
   "id": "cca7b10a",
   "metadata": {},
   "outputs": [
    {
     "data": {
      "text/plain": [
       "[(1, 'Harry', 'Iphone', datetime.datetime(2020, 9, 12, 0, 0), 2),\n",
       " (2, 'Julie', 'Headphone', datetime.datetime(2020, 9, 12, 0, 0), 1),\n",
       " (3, 'Crystal', 'Speaker', datetime.datetime(2020, 9, 12, 0, 0), 3)]"
      ]
     },
     "execution_count": 48,
     "metadata": {},
     "output_type": "execute_result"
    }
   ],
   "source": [
    "cursor.fetchall()"
   ]
  },
  {
   "cell_type": "code",
   "execution_count": null,
   "id": "2b59fbee",
   "metadata": {},
   "outputs": [],
   "source": [
    "# retrieving records from a table"
   ]
  },
  {
   "cell_type": "code",
   "execution_count": 50,
   "id": "13378875",
   "metadata": {},
   "outputs": [
    {
     "data": {
      "text/plain": [
       "[(1, 'Harry', 'Iphone', datetime.datetime(2020, 9, 12, 0, 0), 2),\n",
       " (3, 'Crystal', 'Speaker', datetime.datetime(2020, 9, 12, 0, 0), 3)]"
      ]
     },
     "execution_count": 50,
     "metadata": {},
     "output_type": "execute_result"
    }
   ],
   "source": [
    "cursor.execute(\"select * from sales where years > 1;\")\n",
    "cursor.fetchall()"
   ]
  },
  {
   "cell_type": "code",
   "execution_count": 51,
   "id": "3c36d603",
   "metadata": {},
   "outputs": [
    {
     "data": {
      "text/plain": [
       "[(1, 'Harry', 'Iphone', datetime.datetime(2020, 9, 12, 0, 0), 2),\n",
       " (2, 'Julie', 'Headphone', datetime.datetime(2020, 9, 12, 0, 0), 1),\n",
       " (3, 'Crystal', 'Speaker', datetime.datetime(2020, 9, 12, 0, 0), 3),\n",
       " (4, 'Daniel', 'laptop', datetime.datetime(2020, 10, 11, 0, 0), 3)]"
      ]
     },
     "execution_count": 51,
     "metadata": {},
     "output_type": "execute_result"
    }
   ],
   "source": [
    "# inserting records into a table\n",
    "\n",
    "cursor.execute(\"insert into sales values(4,'Daniel','laptop','2020-10-11',3);\")\n",
    "cursor.execute(\"select * from sales\")\n",
    "cursor.fetchall()"
   ]
  },
  {
   "cell_type": "code",
   "execution_count": 52,
   "id": "2d9d6f77",
   "metadata": {},
   "outputs": [],
   "source": [
    "# to commit the changes to the database, we have touse the commit() method of database connection object\n",
    "db_conn.commit()\n",
    "# now checkthe updated database from mysql shell"
   ]
  },
  {
   "cell_type": "code",
   "execution_count": 53,
   "id": "f352e30c",
   "metadata": {},
   "outputs": [],
   "source": [
    "# inserting multiple records\n",
    "\n",
    "data=[(5,'Niel','Headphone','2020-10-12',1),\n",
    "      (6,'Simran','Monitor','2020-10-12',1)    \n",
    "]"
   ]
  },
  {
   "cell_type": "code",
   "execution_count": 54,
   "id": "57a4af39",
   "metadata": {},
   "outputs": [],
   "source": [
    "# insert query.Specify parameter using %s\n",
    "stmt=\"insert into sales values(%s,%s,%s,%s,%s)\""
   ]
  },
  {
   "cell_type": "code",
   "execution_count": null,
   "id": "9bd1e1f9",
   "metadata": {},
   "outputs": [],
   "source": [
    "# to insert multiple records together,we have to use the executemany() method of the cursor object.\n",
    "# it takes a query and a set of parameters and implements the query with all the parameters "
   ]
  },
  {
   "cell_type": "code",
   "execution_count": 55,
   "id": "71067a7a",
   "metadata": {},
   "outputs": [],
   "source": [
    "cursor.executemany(stmt,data)\n"
   ]
  },
  {
   "cell_type": "code",
   "execution_count": 56,
   "id": "9aaeec91",
   "metadata": {},
   "outputs": [
    {
     "data": {
      "text/plain": [
       "[(1, 'Harry', 'Iphone', datetime.datetime(2020, 9, 12, 0, 0), 2),\n",
       " (2, 'Julie', 'Headphone', datetime.datetime(2020, 9, 12, 0, 0), 1),\n",
       " (3, 'Crystal', 'Speaker', datetime.datetime(2020, 9, 12, 0, 0), 3),\n",
       " (4, 'Daniel', 'laptop', datetime.datetime(2020, 10, 11, 0, 0), 3),\n",
       " (5, 'Niel', 'Headphone', datetime.datetime(2020, 10, 12, 0, 0), 1),\n",
       " (6, 'Simran', 'Monitor', datetime.datetime(2020, 10, 12, 0, 0), 1)]"
      ]
     },
     "execution_count": 56,
     "metadata": {},
     "output_type": "execute_result"
    }
   ],
   "source": [
    "cursor.execute(\"select * from sales\")\n",
    "cursor.fetchall()"
   ]
  },
  {
   "cell_type": "code",
   "execution_count": 57,
   "id": "b9848c43",
   "metadata": {},
   "outputs": [
    {
     "data": {
      "text/plain": [
       "[(1, 'Tom', 'Iphone', datetime.datetime(2020, 9, 12, 0, 0), 2)]"
      ]
     },
     "execution_count": 57,
     "metadata": {},
     "output_type": "execute_result"
    }
   ],
   "source": [
    "# update records in a table\n",
    "cursor.execute(\"update sales set name='Tom' where name='Harry'\")\n",
    "cursor.execute(\"select * from sales where name='Tom'\")\n",
    "cursor.fetchall()\n",
    "    "
   ]
  },
  {
   "cell_type": "code",
   "execution_count": 58,
   "id": "b83534fe",
   "metadata": {},
   "outputs": [
    {
     "data": {
      "text/plain": [
       "[]"
      ]
     },
     "execution_count": 58,
     "metadata": {},
     "output_type": "execute_result"
    }
   ],
   "source": [
    "# delete records from a table\n",
    "cursor.execute(\"delete from sales where name='Tom'\")\n",
    "cursor.execute(\"select * from sales where name='Tom'\")\n",
    "cursor.fetchall()"
   ]
  },
  {
   "cell_type": "code",
   "execution_count": 59,
   "id": "375fd42c",
   "metadata": {},
   "outputs": [],
   "source": [
    "db_conn.commit()"
   ]
  },
  {
   "cell_type": "code",
   "execution_count": null,
   "id": "aa444f4a",
   "metadata": {},
   "outputs": [],
   "source": [
    "# SQL into pandas dataframe"
   ]
  },
  {
   "cell_type": "code",
   "execution_count": 60,
   "id": "533a1973",
   "metadata": {},
   "outputs": [],
   "source": [
    "import pandas as pd"
   ]
  },
  {
   "cell_type": "code",
   "execution_count": 61,
   "id": "005b3172",
   "metadata": {},
   "outputs": [],
   "source": [
    "cursor.execute(\"select * from sales\")"
   ]
  },
  {
   "cell_type": "code",
   "execution_count": 62,
   "id": "cc0d3e11",
   "metadata": {},
   "outputs": [],
   "source": [
    "data=cursor.fetchall()"
   ]
  },
  {
   "cell_type": "code",
   "execution_count": 63,
   "id": "e009cf6b",
   "metadata": {},
   "outputs": [],
   "source": [
    "# convert result intopandas datarame\n",
    "df=pd.DataFrame.from_records(data,columns=['id','name','product','sale_date','quantity'])"
   ]
  },
  {
   "cell_type": "code",
   "execution_count": 64,
   "id": "2a860d93",
   "metadata": {},
   "outputs": [
    {
     "data": {
      "text/html": [
       "<div>\n",
       "<style scoped>\n",
       "    .dataframe tbody tr th:only-of-type {\n",
       "        vertical-align: middle;\n",
       "    }\n",
       "\n",
       "    .dataframe tbody tr th {\n",
       "        vertical-align: top;\n",
       "    }\n",
       "\n",
       "    .dataframe thead th {\n",
       "        text-align: right;\n",
       "    }\n",
       "</style>\n",
       "<table border=\"1\" class=\"dataframe\">\n",
       "  <thead>\n",
       "    <tr style=\"text-align: right;\">\n",
       "      <th></th>\n",
       "      <th>id</th>\n",
       "      <th>name</th>\n",
       "      <th>product</th>\n",
       "      <th>sale_date</th>\n",
       "      <th>quantity</th>\n",
       "    </tr>\n",
       "  </thead>\n",
       "  <tbody>\n",
       "    <tr>\n",
       "      <th>0</th>\n",
       "      <td>2</td>\n",
       "      <td>Julie</td>\n",
       "      <td>Headphone</td>\n",
       "      <td>2020-09-12</td>\n",
       "      <td>1</td>\n",
       "    </tr>\n",
       "    <tr>\n",
       "      <th>1</th>\n",
       "      <td>3</td>\n",
       "      <td>Crystal</td>\n",
       "      <td>Speaker</td>\n",
       "      <td>2020-09-12</td>\n",
       "      <td>3</td>\n",
       "    </tr>\n",
       "    <tr>\n",
       "      <th>2</th>\n",
       "      <td>4</td>\n",
       "      <td>Daniel</td>\n",
       "      <td>laptop</td>\n",
       "      <td>2020-10-11</td>\n",
       "      <td>3</td>\n",
       "    </tr>\n",
       "    <tr>\n",
       "      <th>3</th>\n",
       "      <td>5</td>\n",
       "      <td>Niel</td>\n",
       "      <td>Headphone</td>\n",
       "      <td>2020-10-12</td>\n",
       "      <td>1</td>\n",
       "    </tr>\n",
       "    <tr>\n",
       "      <th>4</th>\n",
       "      <td>6</td>\n",
       "      <td>Simran</td>\n",
       "      <td>Monitor</td>\n",
       "      <td>2020-10-12</td>\n",
       "      <td>1</td>\n",
       "    </tr>\n",
       "  </tbody>\n",
       "</table>\n",
       "</div>"
      ],
      "text/plain": [
       "   id     name    product  sale_date  quantity\n",
       "0   2    Julie  Headphone 2020-09-12         1\n",
       "1   3  Crystal    Speaker 2020-09-12         3\n",
       "2   4   Daniel     laptop 2020-10-11         3\n",
       "3   5     Niel  Headphone 2020-10-12         1\n",
       "4   6   Simran    Monitor 2020-10-12         1"
      ]
     },
     "execution_count": 64,
     "metadata": {},
     "output_type": "execute_result"
    }
   ],
   "source": [
    "df.head()"
   ]
  },
  {
   "cell_type": "code",
   "execution_count": null,
   "id": "2cf103fc",
   "metadata": {},
   "outputs": [],
   "source": [
    "# pandas df to sql"
   ]
  },
  {
   "cell_type": "code",
   "execution_count": 65,
   "id": "b016f334",
   "metadata": {},
   "outputs": [
    {
     "data": {
      "text/html": [
       "<div>\n",
       "<style scoped>\n",
       "    .dataframe tbody tr th:only-of-type {\n",
       "        vertical-align: middle;\n",
       "    }\n",
       "\n",
       "    .dataframe tbody tr th {\n",
       "        vertical-align: top;\n",
       "    }\n",
       "\n",
       "    .dataframe thead th {\n",
       "        text-align: right;\n",
       "    }\n",
       "</style>\n",
       "<table border=\"1\" class=\"dataframe\">\n",
       "  <thead>\n",
       "    <tr style=\"text-align: right;\">\n",
       "      <th></th>\n",
       "      <th>id</th>\n",
       "      <th>name</th>\n",
       "      <th>product</th>\n",
       "      <th>sale_date</th>\n",
       "      <th>quantity</th>\n",
       "    </tr>\n",
       "  </thead>\n",
       "  <tbody>\n",
       "    <tr>\n",
       "      <th>0</th>\n",
       "      <td>2</td>\n",
       "      <td>Julie</td>\n",
       "      <td>Headphone</td>\n",
       "      <td>2020-09-12</td>\n",
       "      <td>1</td>\n",
       "    </tr>\n",
       "    <tr>\n",
       "      <th>1</th>\n",
       "      <td>3</td>\n",
       "      <td>Crystal</td>\n",
       "      <td>Speaker</td>\n",
       "      <td>2020-09-12</td>\n",
       "      <td>3</td>\n",
       "    </tr>\n",
       "    <tr>\n",
       "      <th>2</th>\n",
       "      <td>4</td>\n",
       "      <td>Daniel</td>\n",
       "      <td>laptop</td>\n",
       "      <td>2020-10-11</td>\n",
       "      <td>3</td>\n",
       "    </tr>\n",
       "    <tr>\n",
       "      <th>3</th>\n",
       "      <td>5</td>\n",
       "      <td>Niel</td>\n",
       "      <td>Headphone</td>\n",
       "      <td>2020-10-12</td>\n",
       "      <td>1</td>\n",
       "    </tr>\n",
       "    <tr>\n",
       "      <th>4</th>\n",
       "      <td>6</td>\n",
       "      <td>Simran</td>\n",
       "      <td>Monitor</td>\n",
       "      <td>2020-10-12</td>\n",
       "      <td>1</td>\n",
       "    </tr>\n",
       "  </tbody>\n",
       "</table>\n",
       "</div>"
      ],
      "text/plain": [
       "   id     name    product  sale_date  quantity\n",
       "0   2    Julie  Headphone 2020-09-12         1\n",
       "1   3  Crystal    Speaker 2020-09-12         3\n",
       "2   4   Daniel     laptop 2020-10-11         3\n",
       "3   5     Niel  Headphone 2020-10-12         1\n",
       "4   6   Simran    Monitor 2020-10-12         1"
      ]
     },
     "execution_count": 65,
     "metadata": {},
     "output_type": "execute_result"
    }
   ],
   "source": [
    "df"
   ]
  },
  {
   "cell_type": "code",
   "execution_count": 71,
   "id": "fa4d2c72",
   "metadata": {},
   "outputs": [],
   "source": [
    "# function to convert dataframe records to tuples\n",
    "\n",
    "def sql_records(df):\n",
    "    #list to store records as tuples\n",
    "    list_of_records=[]\n",
    "    # converting each dataframe record to tuple\n",
    "    for row in df.to_records(index=False):\n",
    "        #appending record tuple to a list\n",
    "        list_of_records.append(tuple((int(row[0]),row[1],row[2],pd.Timestamp(row[3]),int(row[4]))))\n",
    "    #return the list of tuples    \n",
    "    return list_of_records"
   ]
  },
  {
   "cell_type": "code",
   "execution_count": 72,
   "id": "f92ccd54",
   "metadata": {},
   "outputs": [],
   "source": [
    "# convert df records to the list of tuples\n",
    "output_result=sql_records(df)"
   ]
  },
  {
   "cell_type": "code",
   "execution_count": 73,
   "id": "98bf3bcc",
   "metadata": {},
   "outputs": [
    {
     "data": {
      "text/plain": [
       "[(2, 'Julie', 'Headphone', Timestamp('2020-09-12 00:00:00'), 1),\n",
       " (3, 'Crystal', 'Speaker', Timestamp('2020-09-12 00:00:00'), 3),\n",
       " (4, 'Daniel', 'laptop', Timestamp('2020-10-11 00:00:00'), 3),\n",
       " (5, 'Niel', 'Headphone', Timestamp('2020-10-12 00:00:00'), 1),\n",
       " (6, 'Simran', 'Monitor', Timestamp('2020-10-12 00:00:00'), 1)]"
      ]
     },
     "execution_count": 73,
     "metadata": {},
     "output_type": "execute_result"
    }
   ],
   "source": [
    "output_result"
   ]
  },
  {
   "cell_type": "code",
   "execution_count": 80,
   "id": "27a8c0a0",
   "metadata": {},
   "outputs": [
    {
     "data": {
      "text/plain": [
       "'\\n)\\n'"
      ]
     },
     "execution_count": 80,
     "metadata": {},
     "output_type": "execute_result"
    }
   ],
   "source": [
    "# create a new table\n",
    "\n",
    "cursor.execute(\n",
    "'''\n",
    "create table sales_2(id int,name varchar(20),product varchar(20),sale_data date,quantity int)\n",
    "'''\n",
    ")\n"
   ]
  },
  {
   "cell_type": "code",
   "execution_count": 75,
   "id": "7b57dbcf",
   "metadata": {},
   "outputs": [],
   "source": [
    "# sql query stmt\n",
    "stmt='''insert into sales_2 values(%s,%s,%s,%s,%s)'''\n",
    "# execute query\n",
    "#cursor.executemany(stmt,output_result)\n"
   ]
  },
  {
   "cell_type": "code",
   "execution_count": 76,
   "id": "7fdc8c94",
   "metadata": {},
   "outputs": [
    {
     "data": {
      "text/plain": [
       "[(2, 'Julie', 'Headphone', datetime.date(2020, 9, 12), 1),\n",
       " (3, 'Crystal', 'Speaker', datetime.date(2020, 9, 12), 3),\n",
       " (4, 'Daniel', 'laptop', datetime.date(2020, 10, 11), 3),\n",
       " (5, 'Niel', 'Headphone', datetime.date(2020, 10, 12), 1),\n",
       " (6, 'Simran', 'Monitor', datetime.date(2020, 10, 12), 1)]"
      ]
     },
     "execution_count": 76,
     "metadata": {},
     "output_type": "execute_result"
    }
   ],
   "source": [
    "cursor.execute(\"select * from sales_2\")\n",
    "cursor.fetchall()"
   ]
  },
  {
   "cell_type": "code",
   "execution_count": 77,
   "id": "6676b237",
   "metadata": {},
   "outputs": [
    {
     "data": {
      "text/plain": [
       "True"
      ]
     },
     "execution_count": 77,
     "metadata": {},
     "output_type": "execute_result"
    }
   ],
   "source": [
    "cursor.close()"
   ]
  },
  {
   "cell_type": "code",
   "execution_count": 78,
   "id": "efc5eb3a",
   "metadata": {},
   "outputs": [],
   "source": [
    "db_conn.commit()"
   ]
  },
  {
   "cell_type": "code",
   "execution_count": null,
   "id": "2db52378",
   "metadata": {},
   "outputs": [],
   "source": [
    "#ETl---Lets say we have a restaurant and it has multiple sources that is generating data everyday like dbms,json,csv,xml\n",
    "\n",
    "# and it make predictions regarding future sales or some business decision are taken.\n",
    "\n",
    "# now the inputs are in different formats but for a decision making process we require that the data is in single format\n",
    "# like in a spreadsheet or in a database,so to bridge this gap between our raw data and clean data,we have etl process.\n",
    "# etl stands for extraction,transformation and load,in simple terms it prepares raw data for decision making\n",
    "\n",
    "# extract extracts data from various sources,this extraction can either be full or partial\n",
    "# transforming data involves preprocessing of data like removing null values,duplicate values and all of this happens in a\n",
    "# staging area..which is a temporary place like database where all of these transformation happens\n",
    "# load is the final step where we load data into target location..this loading can be of2 types, like incremental or full\n",
    "# when the data is loaded after extraction and transformation for the very first time, that is a full load\n",
    "# and any subsequent loading of data,for a new entry is known as a partial load.\n",
    "\n",
    "# the mechanism trough which etl process occur is called as etl pipeline,wecan automate etl pipeline and schedule it to run\n",
    "# based on business requirement\n",
    "\n",
    "# there are multiple rulesthat fecilitate using etl pipelines like,informatica,talend,pentaho,etc.\n",
    "\n",
    "# undersatnding the context--letssay there is an e-commerce website on which there are 100 differrent products to purchase\n",
    "# in 3 different categories- which are Ac, refrigerators,and microwave,\n",
    "# the data is availablein csv files and mysql tables\n",
    "\n",
    "#product data is stored in csv file,the data change in tis file rarely.New products are addedonce in months.\n",
    "# this file has 4 different colproduct id,productname,product category,product price\n",
    "# next we have user table. whenever we have new user the data is stored in this table.\n",
    "# in our website every 2 secs a new user is signing up and their details have been stored\n",
    "# in this tablewe have unique user id,user email,user name,source from which user came like instagram,fb,etc,isprime,signuptime\n",
    "# transaction table-if any product is soldin our website,then the trx details arestored here-on an avg every5-15 secs\n",
    "# a trxhappens in our website,and wehave 5 different cols--transaction id,user id ,product id,transaction time,price\n",
    "# our website also has a page where people can apply for a refund\n",
    "# now there are some rules regarding refund--refund will be done only if the trx is done in last 48 hrs.\n"
   ]
  },
  {
   "cell_type": "code",
   "execution_count": null,
   "id": "7f77bd43",
   "metadata": {},
   "outputs": [],
   "source": []
  },
  {
   "cell_type": "code",
   "execution_count": null,
   "id": "497d2ce6",
   "metadata": {},
   "outputs": [],
   "source": []
  }
 ],
 "metadata": {
  "kernelspec": {
   "display_name": "Python 3 (ipykernel)",
   "language": "python",
   "name": "python3"
  },
  "language_info": {
   "codemirror_mode": {
    "name": "ipython",
    "version": 3
   },
   "file_extension": ".py",
   "mimetype": "text/x-python",
   "name": "python",
   "nbconvert_exporter": "python",
   "pygments_lexer": "ipython3",
   "version": "3.9.15"
  }
 },
 "nbformat": 4,
 "nbformat_minor": 5
}
