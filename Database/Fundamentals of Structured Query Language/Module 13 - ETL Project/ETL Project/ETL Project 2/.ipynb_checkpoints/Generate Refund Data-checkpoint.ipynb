{
 "cells": [
  {
   "cell_type": "code",
   "execution_count": 55,
   "metadata": {},
   "outputs": [],
   "source": [
    "# importing the required libraries\n",
    "import time\n",
    "import random\n",
    "import uuid\n",
    "import pandas as pd\n",
    "import mysql.connector as mysql"
   ]
  },
  {
   "cell_type": "code",
   "execution_count": 56,
   "metadata": {},
   "outputs": [],
   "source": [
    "db = mysql.connect(\n",
    "    host = \"localhost\",\n",
    "    user = \"lakshay\",  ## Enter your user name here\n",
    "    password = \"ABC@123\", ## Enter your password here\n",
    "    database = \"website\", ## Enter the database name here\n",
    "    auth_plugin = \"mysql_native_password\",\n",
    ")\n",
    "\n",
    "cursor = db.cursor()"
   ]
  },
  {
   "cell_type": "code",
   "execution_count": null,
   "metadata": {},
   "outputs": [],
   "source": [
    "def generate_refund(transactions):\n",
    "    \n",
    "    ticket_id = \"TICKET-\" + str(uuid.uuid4())\n",
    "    \n",
    "    random_index = random.randint(0,len(transactions)-1)\n",
    "    \n",
    "    transaction_id = transactions[random_index][0]\n",
    "    \n",
    "    user_name  = str(''.join(random.choices(\"ABC\",k=1))) + str(''.join(random.choices(\"ibruegbieiurgeriuger\", k = 4)))\n",
    "    \n",
    "    transaction_amount = transactions[random_index][1]\n",
    "    refund_status = \"NEW\"\n",
    "    \n",
    "    random_error = random.choice([1,1,1,1,0,0,1,1,1,1])\n",
    "    \n",
    "    if random_error == 1:        \n",
    "        if random.choice([0,1,0,0,0]) == 0:    \n",
    "            transaction_id = transaction_id.replace('0','s')        \n",
    "        else :\n",
    "            transaction_amount = transaction_amount + 100\n",
    "    \n",
    "    \n",
    "    return ticket_id, user_name, transaction_id, transaction_amount, refund_status\n",
    "    "
   ]
  },
  {
   "cell_type": "code",
   "execution_count": null,
   "metadata": {},
   "outputs": [],
   "source": [
    "while True:\n",
    "\n",
    "    command = \"SELECT transaction_id, price FROM transaction\"\n",
    "    cursor.execute(command)\n",
    "    transactions = cursor.fetchall()\n",
    "    \n",
    "    for i in range(10):\n",
    "        command = \"INSERT INTO refund_detail values\" + str(generate_refund(transactions))\n",
    "        cursor.execute(command)\n",
    "        db.commit()\n",
    "        time.sleep(random.randint(3,10))"
   ]
  },
  {
   "cell_type": "code",
   "execution_count": null,
   "metadata": {},
   "outputs": [],
   "source": []
  }
 ],
 "metadata": {
  "kernelspec": {
   "display_name": "Python 3",
   "language": "python",
   "name": "python3"
  },
  "language_info": {
   "codemirror_mode": {
    "name": "ipython",
    "version": 3
   },
   "file_extension": ".py",
   "mimetype": "text/x-python",
   "name": "python",
   "nbconvert_exporter": "python",
   "pygments_lexer": "ipython3",
   "version": "3.7.5"
  }
 },
 "nbformat": 4,
 "nbformat_minor": 2
}
