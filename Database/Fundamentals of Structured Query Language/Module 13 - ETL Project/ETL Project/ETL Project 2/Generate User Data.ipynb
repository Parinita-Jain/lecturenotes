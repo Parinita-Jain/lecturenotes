{
 "cells": [
  {
   "cell_type": "markdown",
   "metadata": {},
   "source": [
    "---\n",
    "---\n",
    "\n",
    "<center><h1> Project: Extract Transform Load.</h1></center>\n",
    "\n",
    "---\n",
    "\n",
    "In this project, we will see a demo of a `ETL pipeline`. Suppose we have a database name `website` and it has two different tables.\n",
    "  1. users\n",
    "  2. signup_summary\n",
    "    \n",
    "---\n",
    "\n",
    "In the `users` table, we have the following columns:\n",
    "\n",
    "- **`user_id`**    : Unique string for each of the user. <br>\n",
    "- **`user_email`** : Email ID of the user which was used for the signup. <br>\n",
    "- **`user_name`**  : Name of the user <br>\n",
    "- **`source`**     : Signup source of the user <br> \n",
    "- **`is_prime`**   : Whether the user signed up for the free version or the prime version <br>\n",
    "- **`signup_time`** : Signup time of the user. <br>\n",
    "\n",
    "----"
   ]
  },
  {
   "cell_type": "markdown",
   "metadata": {},
   "source": [
    "----\n",
    "\n",
    "\n",
    "Now, we have a jupyter notebook `Generate Data` that will randomly insert data into this table.\n",
    "\n",
    "\n",
    "---\n",
    "---"
   ]
  },
  {
   "cell_type": "code",
   "execution_count": 1,
   "metadata": {},
   "outputs": [],
   "source": [
    "# importing the required libraries\n",
    "import time\n",
    "import random\n",
    "import uuid\n",
    "import pandas as pd\n",
    "import mysql.connector as mysql\n",
    "import logging"
   ]
  },
  {
   "cell_type": "code",
   "execution_count": 2,
   "metadata": {},
   "outputs": [],
   "source": [
    "def generate_new_row():\n",
    "    \n",
    "    user_id = str(uuid.uuid4())\n",
    "    user_email = str(''.join(random.choices('abcireubgurgbe',k=5))) + str(random.randint(1000,99999)) + \"@gmil.com\"\n",
    "    user_name  = str(''.join(random.choices(\"ABC\",k=1))) + str(''.join(random.choices(\"ibruegbieiurgeriuger\", k = 4)))\n",
    "    source     = random.choice(['LinkedIn', 'Email', 'Instagram', 'Facebook', 'Organic', \"Not Available\"])\n",
    "    is_prime   = random.choice([1, 0])\n",
    "    signup_time = str(pd.datetime.now())\n",
    "    \n",
    "    return user_id, user_email, user_name,  source, is_prime, signup_time\n",
    "    "
   ]
  },
  {
   "cell_type": "code",
   "execution_count": 3,
   "metadata": {},
   "outputs": [],
   "source": [
    "db = mysql.connect(\n",
    "    host = \"localhost\",\n",
    "    user = \"lakshay\",  ## Enter your user name here\n",
    "    password = \"ABC@123\", ## Enter your password here\n",
    "    database = \"website\", ## Enter the database name here\n",
    "    auth_plugin = \"mysql_native_password\",\n",
    ")\n",
    "\n",
    "cursor = db.cursor()"
   ]
  },
  {
   "cell_type": "code",
   "execution_count": null,
   "metadata": {},
   "outputs": [],
   "source": [
    "while True:\n",
    "    command = \"INSERT INTO users values\" + str(generate_new_row())\n",
    "    cursor.execute(command)\n",
    "    db.commit()\n",
    "    time.sleep(random.random())"
   ]
  },
  {
   "cell_type": "code",
   "execution_count": null,
   "metadata": {},
   "outputs": [],
   "source": [
    "## create table transaction_summary(`Air Conditioner` int, Microwave int, Refrigrator int, LG int, Haier int, Samsung int, Whirlpool int, `sales_from_Air Conditioner` int, sales_from_Microwave int, sales_from_Refrigrator int, sales_from_LG int, sales_from_Haier int, sales_from_Samsung int, sales_from_Whirlpool int); "
   ]
  }
 ],
 "metadata": {
  "kernelspec": {
   "display_name": "Python 3",
   "language": "python",
   "name": "python3"
  },
  "language_info": {
   "codemirror_mode": {
    "name": "ipython",
    "version": 3
   },
   "file_extension": ".py",
   "mimetype": "text/x-python",
   "name": "python",
   "nbconvert_exporter": "python",
   "pygments_lexer": "ipython3",
   "version": "3.7.5"
  }
 },
 "nbformat": 4,
 "nbformat_minor": 2
}
