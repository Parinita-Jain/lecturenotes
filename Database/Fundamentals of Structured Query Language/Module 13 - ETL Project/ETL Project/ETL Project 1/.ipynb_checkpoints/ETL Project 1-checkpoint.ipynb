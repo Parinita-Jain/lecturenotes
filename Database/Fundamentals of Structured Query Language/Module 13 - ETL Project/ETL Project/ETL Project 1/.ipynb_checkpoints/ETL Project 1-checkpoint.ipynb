{
 "cells": [
  {
   "cell_type": "markdown",
   "metadata": {},
   "source": [
    "---\n",
    "---\n",
    "\n",
    "<center><h1> Project: Extract Transform Load.</h1></center>\n",
    "\n",
    "---\n",
    "\n",
    "----\n",
    "\n",
    "\n"
   ]
  },
  {
   "cell_type": "markdown",
   "metadata": {},
   "source": [
    "![](images/pipeline.png)\n",
    "\n",
    "\n",
    "---"
   ]
  },
  {
   "cell_type": "code",
   "execution_count": 73,
   "metadata": {},
   "outputs": [],
   "source": [
    "# importing the required libraries\n",
    "import schedule\n",
    "import time\n",
    "import pandas as pd\n",
    "import mysql.connector as mysql\n",
    "from datetime import timedelta\n",
    "import datetime"
   ]
  },
  {
   "cell_type": "code",
   "execution_count": null,
   "metadata": {},
   "outputs": [],
   "source": [
    "def create_connection():\n",
    "    db = mysql.connect(\n",
    "    host = \"localhost\",\n",
    "    user = \"lakshay\", ## Enter your username here\n",
    "    password = \"ABC@123\", ## Enter your password here\n",
    "    database = \"website\", ## Enter your database name here\n",
    "    auth_plugin = \"mysql_native_password\",\n",
    ") \n",
    "   \n",
    "    return db"
   ]
  },
  {
   "cell_type": "markdown",
   "metadata": {},
   "source": [
    "---\n",
    "---\n",
    "\n",
    "#### `EXTRACT`\n",
    "\n",
    "\n",
    "---\n",
    "---"
   ]
  },
  {
   "cell_type": "code",
   "execution_count": 333,
   "metadata": {},
   "outputs": [],
   "source": [
    "# define the extract function\n",
    "def extract(db):\n",
    "    \n",
    "    # create database cursor\n",
    "    cursor = db.cursor()\n",
    "    \n",
    "    # current time & time 5 minutes before\n",
    "    now = datetime.datetime.now()\n",
    "    now_minus_5 = now - datetime.timedelta(minutes = 5)\n",
    "    \n",
    "    print(\"Extracting results between {} and {}\".format(str(now_minus_5),str(now)))\n",
    "    \n",
    "    # command to extract the data of last 5 minutes.\n",
    "    command = \"SELECT * FROM users WHERE signup_time BETWEEN '{}' AND '{}'\".format(now_minus_5, now)\n",
    "    \n",
    "    # execute the command and return the results.\n",
    "    cursor.execute(command)\n",
    "    data = cursor.fetchall()\n",
    "    return now_minus_5, now, pd.DataFrame.from_records(data, columns= ['user_id',\n",
    "                                                     'user_email',\n",
    "                                                     'user_name',\n",
    "                                                     'source',\n",
    "                                                     'is_prime',\n",
    "                                                     'signup_time'])"
   ]
  },
  {
   "cell_type": "markdown",
   "metadata": {},
   "source": [
    "---\n",
    "\n",
    "#### `Transform`\n",
    "\n",
    "---"
   ]
  },
  {
   "cell_type": "code",
   "execution_count": 334,
   "metadata": {},
   "outputs": [],
   "source": [
    "# define the tranform function\n",
    "def transform(df, start_time, end_time):\n",
    "    \n",
    "    df.source.replace(\"Not Available\", \"Organic\", inplace=True)\n",
    "    \n",
    "    source_count = df.groupby(['source'])['user_id'].count()\n",
    "    prime_count = df.groupby(['source'])['is_prime'].sum()\n",
    "    \n",
    "    source_count_dict = source_count.to_dict()\n",
    "    for key in prime_count.to_dict():\n",
    "        new_key_name = \"prime_from_\" + key\n",
    "        source_count_dict[new_key_name] = prime_count[key]\n",
    "    \n",
    "    source_count_dict['start_time'] = str(start_time)\n",
    "    source_count_dict['end_time'] = str(end_time)\n",
    "    \n",
    "    \n",
    "    return source_count_dict"
   ]
  },
  {
   "cell_type": "markdown",
   "metadata": {},
   "source": [
    "---\n",
    "\n",
    "#### `LOAD`\n",
    "\n",
    "---"
   ]
  },
  {
   "cell_type": "code",
   "execution_count": 341,
   "metadata": {},
   "outputs": [],
   "source": [
    "def load(source_count_dict, db):\n",
    "    cursor = db.cursor()\n",
    "    command = \"INSERT INTO signup_summary({col}) values{val}\".format(col= ','.join(source_count_dict.keys()),\n",
    "                                                                       val= tuple(source_count_dict.values()))\n",
    "    cursor.execute(command)\n",
    "    db.commit()"
   ]
  },
  {
   "cell_type": "markdown",
   "metadata": {},
   "source": [
    "---\n",
    "\n",
    "#### Define the ETL Pipeline\n",
    "\n",
    "- Step 1: Extraction\n",
    "- Step 2: Transformation\n",
    "- Step 3: Loading   \n",
    "\n",
    "---"
   ]
  },
  {
   "cell_type": "code",
   "execution_count": 335,
   "metadata": {},
   "outputs": [],
   "source": [
    "def job():\n",
    "\n",
    "    db_object = create_connection()\n",
    "    \n",
    "    ## STEP 1: Extract\n",
    "    start_time, end_time, df = extract(db_object)\n",
    "    \n",
    "    ## Step 2: Transform\n",
    "    final_results = transform(df, start_time, end_time)\n",
    "    \n",
    "    ## Step 3: Load\n",
    "    load(final_results, db_object)"
   ]
  },
  {
   "cell_type": "code",
   "execution_count": 340,
   "metadata": {},
   "outputs": [
    {
     "name": "stdout",
     "output_type": "stream",
     "text": [
      "Extracting results between 2021-09-09 12:30:35.665694 and 2021-09-09 12:35:35.665694\n",
      "Extracting results between 2021-09-09 12:35:36.073790 and 2021-09-09 12:40:36.073790\n",
      "Extracting results between 2021-09-09 12:40:36.435533 and 2021-09-09 12:45:36.435533\n",
      "Extracting results between 2021-09-09 12:45:36.679163 and 2021-09-09 12:50:36.679163\n"
     ]
    },
    {
     "ename": "KeyboardInterrupt",
     "evalue": "",
     "output_type": "error",
     "traceback": [
      "\u001b[0;31m---------------------------------------------------------------------------\u001b[0m",
      "\u001b[0;31mKeyboardInterrupt\u001b[0m                         Traceback (most recent call last)",
      "\u001b[0;32m<ipython-input-340-74c9c8db3fc5>\u001b[0m in \u001b[0;36m<module>\u001b[0;34m()\u001b[0m\n\u001b[1;32m      1\u001b[0m \u001b[0;32mwhile\u001b[0m \u001b[0;32mTrue\u001b[0m\u001b[0;34m:\u001b[0m\u001b[0;34m\u001b[0m\u001b[0;34m\u001b[0m\u001b[0m\n\u001b[1;32m      2\u001b[0m         \u001b[0mjob\u001b[0m\u001b[0;34m(\u001b[0m\u001b[0;34m)\u001b[0m\u001b[0;34m\u001b[0m\u001b[0;34m\u001b[0m\u001b[0m\n\u001b[0;32m----> 3\u001b[0;31m         \u001b[0mtime\u001b[0m\u001b[0;34m.\u001b[0m\u001b[0msleep\u001b[0m\u001b[0;34m(\u001b[0m\u001b[0;36m300\u001b[0m\u001b[0;34m)\u001b[0m\u001b[0;34m\u001b[0m\u001b[0;34m\u001b[0m\u001b[0m\n\u001b[0m",
      "\u001b[0;31mKeyboardInterrupt\u001b[0m: "
     ]
    }
   ],
   "source": [
    "# while True:\n",
    "#         job()\n",
    "#         time.sleep(300)"
   ]
  },
  {
   "cell_type": "code",
   "execution_count": null,
   "metadata": {},
   "outputs": [],
   "source": [
    "if __name__ == 'main':\n",
    "    while True:\n",
    "        job()\n",
    "        time.sleep(300)"
   ]
  }
 ],
 "metadata": {
  "kernelspec": {
   "display_name": "Python 3",
   "language": "python",
   "name": "python3"
  },
  "language_info": {
   "codemirror_mode": {
    "name": "ipython",
    "version": 3
   },
   "file_extension": ".py",
   "mimetype": "text/x-python",
   "name": "python",
   "nbconvert_exporter": "python",
   "pygments_lexer": "ipython3",
   "version": "3.7.5"
  }
 },
 "nbformat": 4,
 "nbformat_minor": 2
}
