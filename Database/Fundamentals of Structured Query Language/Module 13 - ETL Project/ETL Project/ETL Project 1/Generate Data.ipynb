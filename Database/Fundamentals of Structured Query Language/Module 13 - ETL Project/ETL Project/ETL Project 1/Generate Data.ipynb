{
 "cells": [
  {
   "cell_type": "markdown",
   "metadata": {},
   "source": [
    "---\n",
    "---\n",
    "\n",
    "<center><h1> Project: Extract Transform Load.</h1></center>\n",
    "\n",
    "---\n",
    "\n",
    "In this project, we will see a demo of a `ETL pipeline`. Suppose we have a database name `website` and it has two different tables.\n",
    "  1. users\n",
    "  2. signup_summary\n",
    "    \n",
    "---\n",
    "\n",
    "In the `users` table, we have the following columns:\n",
    "\n",
    "- **`user_id`**    : Unique string for each of the user. <br>\n",
    "- **`user_email`** : Email ID of the user which was used for the signup. <br>\n",
    "- **`user_name`**  : Name of the user <br>\n",
    "- **`source`**     : Signup source of the user <br> \n",
    "- **`is_prime`**   : Whether the user signed up for the free version or the prime version <br>\n",
    "- **`signup_time`** : Signup time of the user. <br>\n",
    "\n",
    "----"
   ]
  },
  {
   "cell_type": "markdown",
   "metadata": {},
   "source": [
    "---\n",
    "\n",
    "Run the following commands to create the required database & tables:\n",
    "\n",
    "1. CREATE DATABASE website;\n",
    "\n",
    "\n",
    "2. use website;\n",
    "\n",
    "\n",
    "3. CREATE TABLE users(user_id varchar(50) not null,\n",
    "                      user_email varchar(40),\n",
    "                      user_name varchar(20),\n",
    "                      source varchar(20),\n",
    "                      is_prime boolean);\n",
    "                      \n",
    "                      \n",
    "4. CREATE TABLE signup_summary(start_time time,\n",
    "                               end_time time,\n",
    "                               Email int,\n",
    "                               Facebook int,\n",
    "                               Instagram int,\n",
    "                               LinkedIn int,\n",
    "                               Organic int,\n",
    "                               prime_from_Email int,\n",
    "                               prime_from_Facebook int,\n",
    "                               prime_from_Instagram int,\n",
    "                               prime_from_LinkedIn int,                  \n",
    "                               prime_from_Organic int);\n",
    "\n",
    "---"
   ]
  },
  {
   "cell_type": "markdown",
   "metadata": {},
   "source": [
    "----\n",
    "\n",
    "\n",
    "Now, we have a jupyter notebook `Generate Data` that will randomly insert data into this table.\n",
    "\n",
    "\n",
    "---\n",
    "---"
   ]
  },
  {
   "cell_type": "code",
   "execution_count": 125,
   "metadata": {},
   "outputs": [],
   "source": [
    "# importing the required libraries\n",
    "import time\n",
    "import random\n",
    "import uuid\n",
    "import pandas as pd\n",
    "import mysql.connector as mysql"
   ]
  },
  {
   "cell_type": "code",
   "execution_count": 126,
   "metadata": {},
   "outputs": [],
   "source": [
    "def generate_new_row():\n",
    "    \n",
    "    user_id = str(uuid.uuid4())\n",
    "    user_email = str(''.join(random.choices('abcireubgurgbe',k=5))) + str(random.randint(1000,99999)) + \"@gmil.com\"\n",
    "    user_name  = str(''.join(random.choices(\"ABC\",k=1))) + str(''.join(random.choices(\"ibruegbieiurgeriuger\", k = 4)))\n",
    "    source     = random.choice(['LinkedIn', 'Email', 'Instagram', 'Facebook', 'Organic', \"Not Available\"])\n",
    "    is_prime   = random.choice([1, 0])\n",
    "    signup_time = str(pd.datetime.now())\n",
    "    \n",
    "    return user_id, user_email, user_name,  source, is_prime, signup_time\n",
    "    "
   ]
  },
  {
   "cell_type": "code",
   "execution_count": 127,
   "metadata": {},
   "outputs": [],
   "source": [
    "db = mysql.connect(\n",
    "    host = \"localhost\",\n",
    "    user = \"lakshay\",  ## Enter your user name here\n",
    "    password = \"ABC@123\", ## Enter your password here\n",
    "    database = \"website\", ## Enter the database name here\n",
    "    auth_plugin = \"mysql_native_password\",\n",
    ")\n",
    "\n",
    "cursor = db.cursor()"
   ]
  },
  {
   "cell_type": "code",
   "execution_count": 128,
   "metadata": {},
   "outputs": [
    {
     "ename": "KeyboardInterrupt",
     "evalue": "",
     "output_type": "error",
     "traceback": [
      "\u001b[0;31m---------------------------------------------------------------------------\u001b[0m",
      "\u001b[0;31mKeyboardInterrupt\u001b[0m                         Traceback (most recent call last)",
      "\u001b[0;32m<ipython-input-128-5ac121b265c0>\u001b[0m in \u001b[0;36m<module>\u001b[0;34m()\u001b[0m\n\u001b[1;32m      2\u001b[0m     \u001b[0mcommand\u001b[0m \u001b[0;34m=\u001b[0m \u001b[0;34m\"INSERT INTO users values\"\u001b[0m \u001b[0;34m+\u001b[0m \u001b[0mstr\u001b[0m\u001b[0;34m(\u001b[0m\u001b[0mgenerate_new_row\u001b[0m\u001b[0;34m(\u001b[0m\u001b[0;34m)\u001b[0m\u001b[0;34m)\u001b[0m\u001b[0;34m\u001b[0m\u001b[0;34m\u001b[0m\u001b[0m\n\u001b[1;32m      3\u001b[0m     \u001b[0mcursor\u001b[0m\u001b[0;34m.\u001b[0m\u001b[0mexecute\u001b[0m\u001b[0;34m(\u001b[0m\u001b[0mcommand\u001b[0m\u001b[0;34m)\u001b[0m\u001b[0;34m\u001b[0m\u001b[0;34m\u001b[0m\u001b[0m\n\u001b[0;32m----> 4\u001b[0;31m     \u001b[0mdb\u001b[0m\u001b[0;34m.\u001b[0m\u001b[0mcommit\u001b[0m\u001b[0;34m(\u001b[0m\u001b[0;34m)\u001b[0m\u001b[0;34m\u001b[0m\u001b[0;34m\u001b[0m\u001b[0m\n\u001b[0m\u001b[1;32m      5\u001b[0m     \u001b[0mtime\u001b[0m\u001b[0;34m.\u001b[0m\u001b[0msleep\u001b[0m\u001b[0;34m(\u001b[0m\u001b[0mrandom\u001b[0m\u001b[0;34m.\u001b[0m\u001b[0mrandom\u001b[0m\u001b[0;34m(\u001b[0m\u001b[0;34m)\u001b[0m\u001b[0;34m)\u001b[0m\u001b[0;34m\u001b[0m\u001b[0;34m\u001b[0m\u001b[0m\n",
      "\u001b[0;32m/home/lakshay/.local/lib/python3.7/site-packages/mysql/connector/connection_cext.py\u001b[0m in \u001b[0;36mcommit\u001b[0;34m(self)\u001b[0m\n\u001b[1;32m    404\u001b[0m         \u001b[0;34m\"\"\"Commit current transaction\"\"\"\u001b[0m\u001b[0;34m\u001b[0m\u001b[0;34m\u001b[0m\u001b[0m\n\u001b[1;32m    405\u001b[0m         \u001b[0;32mif\u001b[0m \u001b[0mself\u001b[0m\u001b[0;34m.\u001b[0m\u001b[0m_cmysql\u001b[0m\u001b[0;34m:\u001b[0m\u001b[0;34m\u001b[0m\u001b[0;34m\u001b[0m\u001b[0m\n\u001b[0;32m--> 406\u001b[0;31m             \u001b[0mself\u001b[0m\u001b[0;34m.\u001b[0m\u001b[0m_cmysql\u001b[0m\u001b[0;34m.\u001b[0m\u001b[0mcommit\u001b[0m\u001b[0;34m(\u001b[0m\u001b[0;34m)\u001b[0m\u001b[0;34m\u001b[0m\u001b[0;34m\u001b[0m\u001b[0m\n\u001b[0m\u001b[1;32m    407\u001b[0m \u001b[0;34m\u001b[0m\u001b[0m\n\u001b[1;32m    408\u001b[0m     \u001b[0;32mdef\u001b[0m \u001b[0mrollback\u001b[0m\u001b[0;34m(\u001b[0m\u001b[0mself\u001b[0m\u001b[0;34m)\u001b[0m\u001b[0;34m:\u001b[0m\u001b[0;34m\u001b[0m\u001b[0;34m\u001b[0m\u001b[0m\n",
      "\u001b[0;31mKeyboardInterrupt\u001b[0m: "
     ]
    }
   ],
   "source": [
    "while True:\n",
    "    command = \"INSERT INTO users values\" + str(generate_new_row())\n",
    "    cursor.execute(command)\n",
    "    db.commit()\n",
    "    time.sleep(random.random())"
   ]
  },
  {
   "cell_type": "code",
   "execution_count": null,
   "metadata": {},
   "outputs": [],
   "source": []
  },
  {
   "cell_type": "code",
   "execution_count": null,
   "metadata": {},
   "outputs": [],
   "source": []
  }
 ],
 "metadata": {
  "kernelspec": {
   "display_name": "Python 3",
   "language": "python",
   "name": "python3"
  },
  "language_info": {
   "codemirror_mode": {
    "name": "ipython",
    "version": 3
   },
   "file_extension": ".py",
   "mimetype": "text/x-python",
   "name": "python",
   "nbconvert_exporter": "python",
   "pygments_lexer": "ipython3",
   "version": "3.7.5"
  }
 },
 "nbformat": 4,
 "nbformat_minor": 2
}
